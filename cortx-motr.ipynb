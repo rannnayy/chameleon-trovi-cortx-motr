{
 "cells": [
  {
   "cell_type": "markdown",
   "metadata": {},
   "source": [
    "# OLD"
   ]
  },
  {
   "cell_type": "code",
   "execution_count": null,
   "metadata": {},
   "outputs": [],
   "source": [
    "export OS_PROJECT_NAME=\"$OS_PROJECT_NAME\"\n",
    "export OS_REGION_NAME=\"CHI@TACC\"\n",
    "export NODE_TYPE=compute_skylake\n",
    "IMAGE=CC-CentOS7\n",
    "\n",
    "RESOURCE_NAME=\"rani-cortx\""
   ]
  },
  {
   "cell_type": "code",
   "execution_count": null,
   "metadata": {},
   "outputs": [],
   "source": [
    "lease_name=\"$RESOURCE_NAME\"\n",
    "network_name=\"$RESOURCE_NAME\"\n",
    "public_network_id=$(openstack network show public -f value -c id)\n",
    "\n",
    "blazar lease-create \\\n",
    "  --physical-reservation min=1,max=1,resource_properties=\"[\\\"=\\\", \\\"\\$node_type\\\", \\\"$NODE_TYPE\\\"]\" \\\n",
    "  --reservation resource_type=virtual:floatingip,network_id=\"$public_network_id\",amount=1 \\\n",
    "  --start-date \"$(date +'%Y-%m-%d %H:%M')\" \\\n",
    "  --end-date \"$(date +'%Y-%m-%d %H:%M' -d'+1 day')\" \\\n",
    "  \"$lease_name\"\n",
    "\n",
    "# Wait for lease to start\n",
    "timeout 300 bash -c 'until [[ $(blazar lease-show $0 -f value -c status) == \"ACTIVE\" ]]; do sleep 1; done' \"$lease_name\" \\\n",
    "    && echo \"Lease started successfully!\"\n",
    "\n",
    "#\n",
    "# Fetch information about which resources were reserved for later use\n",
    "#\n",
    "\n",
    "reservations=$(blazar lease-show \"$lease_name\" -f json \\\n",
    "  | jq -r '.reservations')\n",
    "host_reservation_id=$(jq -rs 'map(select(.resource_type==\"physical:host\"))[].id' <<<\"$reservations\")\n",
    "fip_reservation_id=$(jq -rs 'map(select(.resource_type==\"virtual:floatingip\"))[].id' <<<\"$reservations\")\n",
    "\n",
    "fip=$(openstack floating ip list --tags \"reservation:$fip_reservation_id\" -f json)\n",
    "fip_id=$(jq -r 'map(.ID)[0]' <<<\"$fip\")\n",
    "fip_addr=$(jq -r 'map(.[\"Floating IP Address\"])[0]' <<<\"$fip\")"
   ]
  },
  {
   "cell_type": "code",
   "execution_count": null,
   "metadata": {},
   "outputs": [],
   "source": [
    "key_pair_upload\n",
    "\n",
    "# Create the server instance\n",
    "openstack server create --wait \\\n",
    " --flavor baremetal \\\n",
    " --image \"$IMAGE\" \\\n",
    " --hint reservation=\"$host_reservation_id\" \\\n",
    " --nic net-id=$(openstack network show sharednet1 -f value -c id) \\\n",
    " --key-name \"$USER-jupyter\" \\\n",
    " \"$RESOURCE_NAME\"\n",
    " \n",
    "# Assign a public IP\n",
    "openstack server add floating ip \"$RESOURCE_NAME\" \"$fip_addr\"\n",
    "\n",
    "# Wait for public IP connectivity\n",
    "wait_ssh \"$fip_addr\""
   ]
  },
  {
   "cell_type": "code",
   "execution_count": null,
   "metadata": {},
   "outputs": [],
   "source": [
    "# 0. Setup zsh [Login on \"daniar\"]\n",
    "\n",
    "ssh cc@\"$fip_addr\"\n",
    "sudo su\n",
    "yum update -y\n",
    "yum install zsh -y\n",
    "chsh -s /bin/zsh root"
   ]
  },
  {
   "cell_type": "code",
   "execution_count": null,
   "metadata": {},
   "outputs": [],
   "source": [
    "exit\n",
    "sudo chsh -s /bin/zsh daniar\n",
    "which zsh\n",
    "echo $SHELL\n",
    "\n",
    "sudo yum install wget git vim zsh -y"
   ]
  },
  {
   "cell_type": "code",
   "execution_count": null,
   "metadata": {},
   "outputs": [],
   "source": [
    "printf 'Y' | sh -c \"$(wget -O- https://raw.githubusercontent.com/ohmyzsh/ohmyzsh/master/tools/install.sh)\"\n",
    "\n",
    "/bin/cp ~/.oh-my-zsh/templates/zshrc.zsh-template ~/.zshrc\n",
    "sudo sed -i 's|home/daniar:/bin/bash|home/daniar:/bin/zsh|g' /etc/passwd\n",
    "sudo sed -i 's|ZSH_THEME=\"robbyrussell\"|ZSH_THEME=\"risto\"|g' ~/.zshrc\n",
    "zsh\n",
    "exit\n",
    "exit"
   ]
  },
  {
   "cell_type": "code",
   "execution_count": null,
   "metadata": {},
   "outputs": [],
   "source": [
    "# 2. Clone Motr and Install dependencies\n",
    "\n",
    "sudo mkdir -p /mnt/extra\n",
    "sudo chown $USER -R /mnt\n",
    "\n",
    "cd /mnt/extra\n",
    "git clone --recursive https://github.com/Seagate/cortx-motr.git\n",
    "\n",
    "# install pip and python\n",
    "sudo yum group install -y \"Development Tools\"\n",
    "sudo yum install -y python-devel ansible tmux\n",
    "curl https://bootstrap.pypa.io/pip/2.7/get-pip.py -o get-pip.py\n",
    "python get-pip.py pip==19.3.1            \n",
    "sudo pip install --target=/usr/lib64/python2.7/site-packages ipaddress\n",
    "\n",
    "# force ansible to use python2\n",
    "sudo su\n",
    "echo \"all:\" >> /etc/ansible/hosts\n",
    "echo \"  ansible_python_interpreter: \\\"/usr/bin/python2\\\"\" >> /etc/ansible/hosts\n",
    "exit\n",
    "\n",
    "# run build dependencies (9 min)\n",
    "cd /mnt/extra/cortx-motr\n",
    "sudo ./scripts/install-build-deps"
   ]
  },
  {
   "cell_type": "code",
   "execution_count": null,
   "metadata": {},
   "outputs": [],
   "source": [
    "# 3. Configure libfabric \n",
    "    \n",
    "cd /mnt/extra\n",
    "wget https://github.com/Seagate/cortx/releases/download/build-dependencies/libfabric-1.11.2-1.el7.x86_64.rpm\n",
    "wget https://github.com/Seagate/cortx/releases/download/build-dependencies/libfabric-devel-1.11.2-1.el7.x86_64.rpm\n",
    "sudo rpm -i libfabric-1.11.2-1.el7.x86_64.rpm\n",
    "sudo rpm -i libfabric-devel-1.11.2-1.el7.x86_64.rpm\n",
    "sudo sed -i 's|tcp(eth1)|tcp(eth0)|g' /etc/libfab.conf"
   ]
  },
  {
   "cell_type": "code",
   "execution_count": null,
   "metadata": {},
   "outputs": [],
   "source": [
    "# 4. Build motr \n",
    "# Make sure that the exampleX.c is in the ORIGINAL form, otherwise, you can't run \"make\"\n",
    "# (7 min)\n",
    "cd /mnt/extra/cortx-motr\n",
    "sudo ./autogen.sh \n",
    "\n",
    "# Disable expensive checks \n",
    "    # https://cortxcommunity.slack.com/archives/C019S0SGWNQ/p1607974535256000\n",
    "    \n",
    "    sudo ./configure --disable-expensive-checks --disable-immediate-trace  --disable-dev-mode --with-trace-max-level=M0_ERROR\n",
    "    \n",
    "    # ./configure --with-trace-max-level=M0_INFO\n",
    "    # ./configure --help | grep trace\n",
    "\n",
    "cd /mnt/extra/cortx-motr\n",
    "sudo make -j48"
   ]
  },
  {
   "cell_type": "code",
   "execution_count": null,
   "metadata": {},
   "outputs": [],
   "source": [
    "# 5. Compile Python util\n",
    "    \n",
    "cd /mnt/extra/\n",
    "sudo yum install -y gcc rpm-build python36 python36-pip python36-devel python36-setuptools openssl-devel libffi-devel python36-dbus\n",
    "git clone --recursive https://github.com/Seagate/cortx-utils -b main\n",
    "\n",
    "cd /mnt/extra/cortx-utils\n",
    "./jenkins/build.sh -v 2.0.0 -b 2\n",
    "sudo pip3 install -r https://raw.githubusercontent.com/Seagate/cortx-utils/main/py-utils/python_requirements.txt\n",
    "sudo pip3 install -r https://raw.githubusercontent.com/Seagate/cortx-utils/main/py-utils/python_requirements.ext.txt\n",
    "\n",
    "cd /mnt/extra/py-utils/dist\n",
    "sudo yum install -y cortx-py-utils-*.noarch.rpm"
   ]
  },
  {
   "cell_type": "code",
   "execution_count": null,
   "metadata": {},
   "outputs": [],
   "source": [
    "# 6. Building Hare \n",
    "    \n",
    "cd /mnt/extra\n",
    "# clone repo\n",
    "git clone https://github.com/Seagate/cortx-hare.git && cd cortx-hare\n",
    "\n",
    "# install fecter\n",
    "sudo yum -y install python3 python3-devel yum-utils\n",
    "sudo yum localinstall -y https://yum.puppetlabs.com/puppet/el/7/x86_64/puppet-agent-7.0.0-1.el7.x86_64.rpm\n",
    "sudo ln -sf /opt/puppetlabs/bin/facter /usr/bin/facter\n",
    "\n",
    "# install consul\n",
    "sudo yum -y install yum-utils\n",
    "sudo yum-config-manager --add-repo https://rpm.releases.hashicorp.com/RHEL/hashicorp.repo\n",
    "sudo yum -y install consul-1.9.1\n",
    "\n",
    "# build and install motr [here\n",
    "cd /mnt/extra/cortx-motr && time sudo ./scripts/install-motr-service --link\n",
    "export M0_SRC_DIR=$PWD\n",
    "\n",
    "# build hare \n",
    "cd /mnt/extra/cortx-hare\n",
    "sudo make\n",
    "sudo make install\n",
    "\n",
    "# create hare group\n",
    "sudo groupadd --force hare\n",
    "sudo usermod --append --groups hare $USER\n",
    "\n",
    "# add path to zsh\n",
    "echo 'PATH=/opt/seagate/cortx/hare/bin:$PATH' >> ~/.zshrc\n",
    "echo 'export LD_LIBRARY_PATH=/mnt/extra/cortx-motr/motr/.libs/' >> ~/.zshrc\n",
    "source ~/.zshrc"
   ]
  }
 ],
 "metadata": {
  "language_info": {
   "name": "python"
  },
  "orig_nbformat": 4
 },
 "nbformat": 4,
 "nbformat_minor": 2
}
