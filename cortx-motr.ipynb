{
 "cells": [
  {
   "cell_type": "code",
   "execution_count": null,
   "metadata": {},
   "outputs": [],
   "source": [
    "export OS_PROJECT_NAME=\"$OS_PROJECT_NAME\"\n",
    "export OS_REGION_NAME=\"CHI@UC\"\n",
    "export NODE_TYPE=compute_skylake\n",
    "IMAGE=CC-CentOS7\n",
    "\n",
    "RESOURCE_NAME=\"rani-cortx-trovi\""
   ]
  },
  {
   "cell_type": "code",
   "execution_count": null,
   "metadata": {},
   "outputs": [],
   "source": [
    "lease_name=\"$RESOURCE_NAME\"\n",
    "network_name=\"$RESOURCE_NAME\"\n",
    "public_network_id=$(openstack network show public -f value -c id)"
   ]
  },
  {
   "cell_type": "code",
   "execution_count": null,
   "metadata": {},
   "outputs": [],
   "source": [
    "mkdir -p ~/.ssh\n",
    "echo \"Host *\" > ~/.ssh/config\n",
    "echo \" StrictHostKeyChecking no\" >> ~/.ssh/config\n",
    "sudo rm -rf output/*"
   ]
  },
  {
   "cell_type": "code",
   "execution_count": null,
   "metadata": {},
   "outputs": [],
   "source": [
    "blazar lease-create \\\n",
    "  --physical-reservation min=1,max=1,resource_properties=\"[\\\"=\\\", \\\"\\$node_type\\\", \\\"$NODE_TYPE\\\"]\" \\\n",
    "  --reservation resource_type=virtual:floatingip,network_id=\"$public_network_id\",amount=1 \\\n",
    "  --start-date \"$(date +'%Y-%m-%d %H:%M')\" \\\n",
    "  --end-date \"$(date +'%Y-%m-%d %H:%M' -d'+1 day')\" \\\n",
    "  \"$lease_name\""
   ]
  },
  {
   "cell_type": "code",
   "execution_count": null,
   "metadata": {},
   "outputs": [],
   "source": [
    "# Wait for lease to start\n",
    "timeout 300 bash -c 'until [[ $(blazar lease-show $0 -f value -c status) == \"ACTIVE\" ]]; do sleep 1; done' \"$lease_name\" \\\n",
    "    && echo \"Lease started successfully!\""
   ]
  },
  {
   "cell_type": "code",
   "execution_count": null,
   "metadata": {},
   "outputs": [],
   "source": [
    "#\n",
    "# Fetch information about which resources were reserved for later use\n",
    "#\n",
    "\n",
    "reservations=$(blazar lease-show \"$lease_name\" -f json \\\n",
    "  | jq -r '.reservations')\n",
    "host_reservation_id=$(jq -rs 'map(select(.resource_type==\"physical:host\"))[].id' <<<\"$reservations\")\n",
    "fip_reservation_id=$(jq -rs 'map(select(.resource_type==\"virtual:floatingip\"))[].id' <<<\"$reservations\")\n",
    "\n",
    "fip=$(openstack floating ip list --tags \"reservation:$fip_reservation_id\" -f json)\n",
    "fip_id=$(jq -r 'map(.ID)[0]' <<<\"$fip\")\n",
    "fip_addr=$(jq -r 'map(.[\"Floating IP Address\"])[0]' <<<\"$fip\")"
   ]
  },
  {
   "cell_type": "code",
   "execution_count": null,
   "metadata": {},
   "outputs": [],
   "source": [
    "key_pair_upload"
   ]
  },
  {
   "cell_type": "code",
   "execution_count": null,
   "metadata": {},
   "outputs": [],
   "source": [
    "# Create the server instance\n",
    "openstack server create --wait \\\n",
    " --flavor baremetal \\\n",
    " --image \"$IMAGE\" \\\n",
    " --hint reservation=\"$host_reservation_id\" \\\n",
    " --nic net-id=$(openstack network show sharednet1 -f value -c id) \\\n",
    " --key-name \"$USER-jupyter\" \\\n",
    " \"$RESOURCE_NAME\""
   ]
  },
  {
   "cell_type": "code",
   "execution_count": null,
   "metadata": {},
   "outputs": [],
   "source": [
    " # Assign a public IP\n",
    "openstack server add floating ip \"$RESOURCE_NAME\" \"$fip_addr\""
   ]
  },
  {
   "cell_type": "code",
   "execution_count": null,
   "metadata": {},
   "outputs": [],
   "source": [
    "# In case \"No FloatingIP found for null\", manually associate the floating ip in Chameleon Web\n",
    "fip_addr=\"192.5.87.179\"\n",
    "#openstack floating ip delete 192.5.86.248"
   ]
  },
  {
   "cell_type": "code",
   "execution_count": null,
   "metadata": {},
   "outputs": [],
   "source": [
    "# Wait for public IP connectivity\n",
    "wait_ssh \"$fip_addr\""
   ]
  },
  {
   "cell_type": "code",
   "execution_count": null,
   "metadata": {},
   "outputs": [],
   "source": [
    "ssh cc@\"$fip_addr\" \\\n",
    "    \"realpath . && ls\""
   ]
  },
  {
   "cell_type": "code",
   "execution_count": null,
   "metadata": {},
   "outputs": [],
   "source": [
    "# This will do the job but only 1 commands per \"server ...\"\n",
    "# Create a helper function to run commands remotely\n",
    "server() {\n",
    "  quoted=\"$(printf \"%q \" \"$@\")\"\n",
    "  ssh cc@\"$fip_addr\" bash -c \"'$quoted'\"\n",
    "}\n",
    "export -f server"
   ]
  },
  {
   "cell_type": "code",
   "execution_count": null,
   "metadata": {},
   "outputs": [],
   "source": [
    "# MARK --> using server instead of ssh directly [NOT USED]\n",
    "server cat /etc/os-release # Check if ssh success\n",
    "server sudo yum update -y\n",
    "server sudo mkdir -p /mnt/extra\n",
    "server sudo chown -R cc /mnt/extra\n",
    "server stat -c \"%U %G\" /mnt/extra # Check if chown successfull\n",
    "\n",
    "# Here realising server only for 1 command\n",
    "server cd /mnt/extra && server realpath . && server git clone --recursive https://github.com/Seagate/cortx-motr.git"
   ]
  },
  {
   "cell_type": "code",
   "execution_count": null,
   "metadata": {},
   "outputs": [],
   "source": [
    "# MARK --> using ssh directly\n",
    "# 0. Setup zsh [Login on \"daniar\"]"
   ]
  },
  {
   "cell_type": "code",
   "execution_count": null,
   "metadata": {},
   "outputs": [],
   "source": [
    "# Check if ssh success\n",
    "ssh cc@\"$fip_addr\" \\\n",
    "    \"cat /etc/os-release && sudo yum update -y\""
   ]
  },
  {
   "cell_type": "code",
   "execution_count": null,
   "metadata": {},
   "outputs": [],
   "source": [
    "# 2. Clone Motr and Install dependencies\n",
    "ssh cc@\"$fip_addr\" \\\n",
    "    \"  sudo mkdir -p /mnt/extra \\\n",
    "    && sudo chown -R cc /mnt/extra \\\n",
    "    && cd /mnt/extra \\\n",
    "    && git clone --recursive https://github.com/Seagate/cortx-motr.git\""
   ]
  },
  {
   "cell_type": "code",
   "execution_count": null,
   "metadata": {},
   "outputs": [],
   "source": [
    "# install pip and python\n",
    "sudo yum group install -y \"Development Tools\"\n",
    "sudo yum install -y python-devel ansible tmux\n",
    "curl https://bootstrap.pypa.io/pip/2.7/get-pip.py -o get-pip.py\n",
    "python get-pip.py pip==19.3.1            \n",
    "sudo pip install --target=/usr/lib64/python2.7/site-packages ipaddress\n",
    "\n",
    "# force ansible to use python2\n",
    "sudo su\n",
    "echo \"all:\" >> /etc/ansible/hosts\n",
    "echo \"  ansible_python_interpreter: \\\"/usr/bin/python2\\\"\" >> /etc/ansible/hosts\n",
    "exit\n",
    "\n",
    "# run build dependencies (9 min)\n",
    "cd /mnt/extra/cortx-motr\n",
    "sudo ./scripts/install-build-deps"
   ]
  },
  {
   "cell_type": "code",
   "execution_count": null,
   "metadata": {},
   "outputs": [],
   "source": [
    "# 3. Configure libfabric \n",
    "    \n",
    "cd /mnt/extra\n",
    "wget https://github.com/Seagate/cortx/releases/download/build-dependencies/libfabric-1.11.2-1.el7.x86_64.rpm\n",
    "wget https://github.com/Seagate/cortx/releases/download/build-dependencies/libfabric-devel-1.11.2-1.el7.x86_64.rpm\n",
    "sudo rpm -i libfabric-1.11.2-1.el7.x86_64.rpm\n",
    "sudo rpm -i libfabric-devel-1.11.2-1.el7.x86_64.rpm\n",
    "sudo sed -i 's|tcp(eth1)|tcp(eth0)|g' /etc/libfab.conf"
   ]
  },
  {
   "cell_type": "code",
   "execution_count": null,
   "metadata": {},
   "outputs": [],
   "source": [
    "# 4. Build motr \n",
    "# Make sure that the exampleX.c is in the ORIGINAL form, otherwise, you can't run \"make\"\n",
    "# (7 min)\n",
    "cd /mnt/extra/cortx-motr\n",
    "sudo ./autogen.sh \n",
    "\n",
    "# Disable expensive checks \n",
    "    # https://cortxcommunity.slack.com/archives/C019S0SGWNQ/p1607974535256000\n",
    "    \n",
    "    sudo ./configure --disable-expensive-checks --disable-immediate-trace  --disable-dev-mode --with-trace-max-level=M0_ERROR\n",
    "    \n",
    "    # ./configure --with-trace-max-level=M0_INFO\n",
    "    # ./configure --help | grep trace\n",
    "\n",
    "cd /mnt/extra/cortx-motr\n",
    "sudo make -j48"
   ]
  },
  {
   "cell_type": "code",
   "execution_count": null,
   "metadata": {},
   "outputs": [],
   "source": [
    "# 5. Compile Python util\n",
    "    \n",
    "cd /mnt/extra/\n",
    "sudo yum install -y gcc rpm-build python36 python36-pip python36-devel python36-setuptools openssl-devel libffi-devel python36-dbus\n",
    "git clone --recursive https://github.com/Seagate/cortx-utils -b main\n",
    "\n",
    "cd /mnt/extra/cortx-utils\n",
    "./jenkins/build.sh -v 2.0.0 -b 2\n",
    "sudo pip3 install -r https://raw.githubusercontent.com/Seagate/cortx-utils/main/py-utils/python_requirements.txt\n",
    "sudo pip3 install -r https://raw.githubusercontent.com/Seagate/cortx-utils/main/py-utils/python_requirements.ext.txt\n",
    "\n",
    "cd /mnt/extra/py-utils/dist\n",
    "sudo yum install -y cortx-py-utils-*.noarch.rpm"
   ]
  },
  {
   "cell_type": "code",
   "execution_count": null,
   "metadata": {},
   "outputs": [],
   "source": [
    "# 6. Building Hare \n",
    "    \n",
    "cd /mnt/extra\n",
    "# clone repo\n",
    "git clone https://github.com/Seagate/cortx-hare.git && cd cortx-hare\n",
    "\n",
    "# install fecter\n",
    "sudo yum -y install python3 python3-devel yum-utils\n",
    "sudo yum localinstall -y https://yum.puppetlabs.com/puppet/el/7/x86_64/puppet-agent-7.0.0-1.el7.x86_64.rpm\n",
    "sudo ln -sf /opt/puppetlabs/bin/facter /usr/bin/facter\n",
    "\n",
    "# install consul\n",
    "sudo yum -y install yum-utils\n",
    "sudo yum-config-manager --add-repo https://rpm.releases.hashicorp.com/RHEL/hashicorp.repo\n",
    "sudo yum -y install consul-1.9.1\n",
    "\n",
    "# build and install motr [here\n",
    "cd /mnt/extra/cortx-motr && time sudo ./scripts/install-motr-service --link\n",
    "export M0_SRC_DIR=$PWD\n",
    "\n",
    "# build hare \n",
    "cd /mnt/extra/cortx-hare\n",
    "sudo make\n",
    "sudo make install\n",
    "\n",
    "# create hare group\n",
    "sudo groupadd --force hare\n",
    "sudo usermod --append --groups hare $USER\n",
    "\n",
    "# add path to zsh\n",
    "echo 'PATH=/opt/seagate/cortx/hare/bin:$PATH' >> ~/.zshrc\n",
    "echo 'export LD_LIBRARY_PATH=/mnt/extra/cortx-motr/motr/.libs/' >> ~/.zshrc\n",
    "source ~/.zshrc"
   ]
  },
  {
   "cell_type": "code",
   "execution_count": null,
   "metadata": {},
   "outputs": [],
   "source": [
    "# 7. Create loop devices [[AFTER EACH REBOOT]]\n",
    "    # https://www.thegeekdiary.com/how-to-create-virtual-block-device-loop-device-filesystem-in-linux/\n",
    "    # If there is only 1 physical storage, you must create loop devices!\n",
    "        # linux support block device called the loop device, which maps a normal file onto a virtual block device\n",
    "\n",
    "    # Create a file (25 GB each)\n",
    "\n",
    "        mkdir -p /mnt/extra/loop-files/\n",
    "        cd /mnt/extra/loop-files/\n",
    "        dd if=/dev/zero of=loopbackfile1.img bs=100M count=250\n",
    "        dd if=/dev/zero of=loopbackfile2.img bs=100M count=250\n",
    "        dd if=/dev/zero of=loopbackfile3.img bs=100M count=250\n",
    "        dd if=/dev/zero of=loopbackfile4.img bs=100M count=250\n",
    "        dd if=/dev/zero of=loopbackfile5.img bs=100M count=250\n",
    "        \n",
    "        # check size \n",
    "        # du -sh loopbackfile1.img \n",
    "\n",
    "            # 1048576000 bytes (1.0 GB) copied, 0.723784 s, 1.4 GB/s\n",
    "            # 1001M loopbackfile1.img\n",
    "\n",
    "    # Create the loop device\n",
    "        cd /mnt/extra/loop-files/\n",
    "        sudo losetup -fP loopbackfile1.img\n",
    "        sudo losetup -fP loopbackfile2.img\n",
    "        sudo losetup -fP loopbackfile3.img\n",
    "        sudo losetup -fP loopbackfile4.img\n",
    "        sudo losetup -fP loopbackfile5.img\n",
    "\n",
    "    # print loop devices \n",
    "        losetup -a\n",
    "            # /dev/loop0: []: (/mnt/extra/loop-files/loopbackfile1.img)\n",
    "            # /dev/loop1: []: (/mnt/extra/loop-files/loopbackfile2.img)\n",
    "            # /dev/loop2: []: (/mnt/extra/loop-files/loopbackfile3.img)\n",
    "\n",
    "    # Format devices into filesystems \n",
    "        printf \"y\" | sudo mkfs.ext4 /mnt/extra/loop-files/loopbackfile1.img \n",
    "        printf \"y\" | sudo mkfs.ext4 /mnt/extra/loop-files/loopbackfile2.img \n",
    "        printf \"y\" | sudo mkfs.ext4 /mnt/extra/loop-files/loopbackfile3.img \n",
    "        printf \"y\" | sudo mkfs.ext4 /mnt/extra/loop-files/loopbackfile4.img \n",
    "        printf \"y\" | sudo mkfs.ext4 /mnt/extra/loop-files/loopbackfile5.img \n",
    "\n",
    "    # mount loop devices\n",
    "\n",
    "        mkdir -p /mnt/extra/loop-devs/loop0\n",
    "        mkdir -p /mnt/extra/loop-devs/loop1\n",
    "        mkdir -p /mnt/extra/loop-devs/loop2\n",
    "        mkdir -p /mnt/extra/loop-devs/loop3\n",
    "        mkdir -p /mnt/extra/loop-devs/loop4\n",
    "        cd /mnt/extra/loop-devs/\n",
    "        sudo mount -o loop /dev/loop0 /mnt/extra/loop-devs/loop0\n",
    "        sudo mount -o loop /dev/loop1 /mnt/extra/loop-devs/loop1\n",
    "        sudo mount -o loop /dev/loop2 /mnt/extra/loop-devs/loop2\n",
    "        sudo mount -o loop /dev/loop3 /mnt/extra/loop-devs/loop3\n",
    "        sudo mount -o loop /dev/loop4 /mnt/extra/loop-devs/loop4\n",
    "        lsblk -f\n",
    "        df -h "
   ]
  },
  {
   "cell_type": "code",
   "execution_count": null,
   "metadata": {},
   "outputs": [],
   "source": [
    "lsblk"
   ]
  },
  {
   "cell_type": "code",
   "execution_count": null,
   "metadata": {},
   "outputs": [],
   "source": [
    "# 8. ACTIVATE the lnet [AFTER EACH REBOOT]\n",
    "    \n",
    "    # \"FIND interface for LNET\"\n",
    "    sudo ifconfig | grep MULTICAST | grep RUNNING\n",
    "    # use the ethXX address to initiate lnetctl\n",
    "\n",
    "    # configure Luster (use eth0 which is UP)\n",
    "    sudo sed -i 's|tcp(eth1)|tcp(eth0)|g' /etc/modprobe.d/lnet.conf\n",
    "    # sudo sed -i 's|tcp(eth0)|tcp(eth1)|g' /etc/modprobe.d/lnet.conf\n",
    "    cat /etc/modprobe.d/lnet.conf\n",
    "    sudo modprobe lnet\n",
    "\n",
    "    # sudo systemctl stop lnet\n",
    "    # sudo systemctl start lnet\n",
    "    # sudo lnetctl net add --net tcp --if eth0\n",
    "\n",
    "    sudo lctl list_nids\n",
    "\n",
    "        # sample output: 10.140.81.147@tcp"
   ]
  },
  {
   "cell_type": "code",
   "execution_count": null,
   "metadata": {},
   "outputs": [],
   "source": [
    "# 9. Start a Hare cluster\n",
    "\n",
    "    # Prepare cdf file \n",
    "        cd /mnt/extra\n",
    "        cp /opt/seagate/cortx/hare/share/cfgen/examples/singlenode.yaml CDF.yaml\n",
    "\n",
    "        sudo sed -i \"s|hostname: localhost|hostname: `hostname`|g\" CDF.yaml\n",
    "        sudo sed -i \"s|node: localhost|node: `hostname`|g\" CDF.yaml\n",
    "        sudo sed -i 's|data_iface: eth1|data_iface: eth0|g' CDF.yaml\n",
    "        # sudo sed -i 's|data_iface: eth0|data_iface: eth1|g' CDF.yaml\n",
    "\n",
    "        # remove the unavailable storage devices \n",
    "        sed -i '/loop0/d' CDF.yaml\n",
    "        sed -i '/loop1/d' CDF.yaml\n",
    "        sed -i '/loop2/d' CDF.yaml\n",
    "        sed -i '/loop3/d' CDF.yaml\n",
    "        sed -i '/loop4/d' CDF.yaml\n",
    "        sed -i '/loop8/d' CDF.yaml\n",
    "\n",
    "        # set the disk for logging\n",
    "        sudo sed -i \"s|loop9|loop8|g\" CDF.yaml\n",
    "\n",
    "        # Check the modification\n",
    "            cd /mnt/extra\n",
    "            cat CDF.yaml| grep eth\n",
    "            cat CDF.yaml| grep hostname\n",
    "            cat CDF.yaml| grep node:            # only 3 loop devices \n",
    "\n",
    "    # bootstrap (0.5 min)\n",
    "        cd /mnt/extra\n",
    "        sudo hctl bootstrap --mkfs CDF.yaml\n",
    "        hctl status\n",
    "        \n",
    "        # cd /mnt/extra\n",
    "        # sudo hctl shutdown; sudo hctl bootstrap --mkfs CDF.yaml\n",
    "\n",
    "    # check status\n",
    "        hctl status\n",
    "\n",
    "        # sample output:\n",
    "            Data pool:\n",
    "                # fid name\n",
    "                0x6f00000000000001:0x0 'the pool'\n",
    "            Profile:\n",
    "                # fid name: pool(s)\n",
    "                0x7000000000000001:0x0 'default': 'the pool' None None\n",
    "            Services:\n",
    "                dan-cortx.novalocal  (RC)\n",
    "                [started]  hax                 0x7200000000000001:0x0          inet:tcp:10.140.81.147@22001\n",
    "                [started]  confd               0x7200000000000001:0x1          inet:tcp:10.140.81.147@21002\n",
    "                [started]  ioservice           0x7200000000000001:0x2          inet:tcp:10.140.81.147@21003\n",
    "                [unknown]  m0_client_other     0x7200000000000001:0x3          inet:tcp:10.140.81.147@22501\n",
    "                [unknown]  m0_client_other     0x7200000000000001:0x4          inet:tcp:10.140.81.147@22502"
   ]
  },
  {
   "cell_type": "code",
   "execution_count": null,
   "metadata": {},
   "outputs": [],
   "source": [
    "# 10. Connect VSCode ssh \n",
    "    # Use the \"remote explorer\" package to establish remote editor\n",
    "    # Open the /mnt/extra \n",
    "    # Need this to inspect the CDF file, make sure it looks good\n",
    "    # Also for modifying the motr source code"
   ]
  },
  {
   "cell_type": "code",
   "execution_count": null,
   "metadata": {},
   "outputs": [],
   "source": [
    "# Save variables\n",
    "\n",
    "cat <<EOF\n",
    "LEASE_NAME=\"$LEASE_NAME\"\n",
    "KEYPAIR_NAME=\"$KEYPAIR_NAME\"\n",
    "SERVER_NAME=\"$SERVER_NAME\"\n",
    "FLOATING_IP=\"$FLOATING_IP\"\n",
    "EOF"
   ]
  },
  {
   "cell_type": "code",
   "execution_count": null,
   "metadata": {},
   "outputs": [],
   "source": [
    "exit"
   ]
  },
  {
   "cell_type": "code",
   "execution_count": null,
   "metadata": {},
   "outputs": [],
   "source": [
    "openstack floating ip delete 192.5.86.238"
   ]
  },
  {
   "cell_type": "code",
   "execution_count": null,
   "metadata": {},
   "outputs": [],
   "source": [
    "openstack server delete $RESOURCE_NAME"
   ]
  },
  {
   "cell_type": "code",
   "execution_count": null,
   "metadata": {},
   "outputs": [],
   "source": [
    "blazar lease-delete $RESOURCE_NAME"
   ]
  }
 ],
 "metadata": {
  "language_info": {
   "name": "python"
  },
  "orig_nbformat": 4
 },
 "nbformat": 4,
 "nbformat_minor": 2
}
